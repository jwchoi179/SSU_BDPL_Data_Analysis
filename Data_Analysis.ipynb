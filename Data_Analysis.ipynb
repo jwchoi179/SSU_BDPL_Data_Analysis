{
 "cells": [
  {
   "cell_type": "markdown",
   "id": "7689de85",
   "metadata": {},
   "source": [
    "# 데이터 분석"
   ]
  },
  {
   "cell_type": "code",
   "execution_count": 395,
   "id": "4f36d5c2",
   "metadata": {},
   "outputs": [],
   "source": [
    "import pandas as pd\n",
    "import numpy as np\n",
    "import matplotlib.pyplot as plt\n",
    "plt.rc('font', family = 'AppleGothic')\n",
    "# plt.rc('font', family = 'NanumGothic')"
   ]
  },
  {
   "cell_type": "code",
   "execution_count": 396,
   "id": "0d7a1ff5",
   "metadata": {},
   "outputs": [],
   "source": [
    "cases = pd.read_excel('./2014_19년 서울_경기 개별 교통사고 정보.xlsx')[0:400000]"
   ]
  },
  {
   "cell_type": "code",
   "execution_count": 332,
   "id": "90801436",
   "metadata": {},
   "outputs": [],
   "source": [
    "seoul = cases[cases.발생지_시도 == '서울']"
   ]
  },
  {
   "cell_type": "code",
   "execution_count": 333,
   "id": "50648f7c",
   "metadata": {},
   "outputs": [],
   "source": [
    "kyungi = cases[cases.발생지_시도 == '경기']"
   ]
  },
  {
   "cell_type": "code",
   "execution_count": 334,
   "id": "c996404c",
   "metadata": {},
   "outputs": [
    {
     "data": {
      "text/plain": [
       "0         20140101\n",
       "1         20140101\n",
       "2         20140101\n",
       "3         20140101\n",
       "4         20140101\n",
       "            ...   \n",
       "550776    20191231\n",
       "550777    20191231\n",
       "550778    20191231\n",
       "550786    20191231\n",
       "550787    20191231\n",
       "Name: 발생일, Length: 239174, dtype: int64"
      ]
     },
     "execution_count": 334,
     "metadata": {},
     "output_type": "execute_result"
    }
   ],
   "source": [
    "seoul.발생일"
   ]
  },
  {
   "cell_type": "markdown",
   "id": "b895ea70",
   "metadata": {},
   "source": [
    "# 서울시 연도 별 발생한 사건 사고 수"
   ]
  },
  {
   "cell_type": "code",
   "execution_count": 335,
   "id": "e857d747",
   "metadata": {},
   "outputs": [
    {
     "data": {
      "text/html": [
       "<div>\n",
       "<style scoped>\n",
       "    .dataframe tbody tr th:only-of-type {\n",
       "        vertical-align: middle;\n",
       "    }\n",
       "\n",
       "    .dataframe tbody tr th {\n",
       "        vertical-align: top;\n",
       "    }\n",
       "\n",
       "    .dataframe thead th {\n",
       "        text-align: right;\n",
       "    }\n",
       "</style>\n",
       "<table border=\"1\" class=\"dataframe\">\n",
       "  <thead>\n",
       "    <tr style=\"text-align: right;\">\n",
       "      <th></th>\n",
       "      <th>서울</th>\n",
       "    </tr>\n",
       "  </thead>\n",
       "  <tbody>\n",
       "    <tr>\n",
       "      <th>2014</th>\n",
       "      <td>40792</td>\n",
       "    </tr>\n",
       "    <tr>\n",
       "      <th>2015</th>\n",
       "      <td>41665</td>\n",
       "    </tr>\n",
       "    <tr>\n",
       "      <th>2016</th>\n",
       "      <td>40039</td>\n",
       "    </tr>\n",
       "    <tr>\n",
       "      <th>2017</th>\n",
       "      <td>38625</td>\n",
       "    </tr>\n",
       "    <tr>\n",
       "      <th>2018</th>\n",
       "      <td>38795</td>\n",
       "    </tr>\n",
       "    <tr>\n",
       "      <th>2019</th>\n",
       "      <td>39258</td>\n",
       "    </tr>\n",
       "  </tbody>\n",
       "</table>\n",
       "</div>"
      ],
      "text/plain": [
       "         서울\n",
       "2014  40792\n",
       "2015  41665\n",
       "2016  40039\n",
       "2017  38625\n",
       "2018  38795\n",
       "2019  39258"
      ]
     },
     "execution_count": 335,
     "metadata": {},
     "output_type": "execute_result"
    }
   ],
   "source": [
    "seoul_years = []\n",
    "\n",
    "years = [2014, 2015, 2016, 2017, 2018, 2019]\n",
    "start_years = [20140101, 20150101, 20160101, 20170101, 20180101, 20190101]\n",
    "ends_years = [20141231, 20151231, 20161231, 20171231, 20181231, 20191231]\n",
    "\n",
    "for i in range(0, 6):\n",
    "    seoul_years.append(len(seoul[(seoul.발생일 >= int(start_years[i])) & (seoul.발생일 <= int(ends_years[i]))]))\n",
    "\n",
    "seoul_years_df = pd.DataFrame({\"서울\" : seoul_years}, index = years)\n",
    "seoul_years_df"
   ]
  },
  {
   "cell_type": "markdown",
   "id": "d856688f",
   "metadata": {},
   "source": [
    "# 경기도 연도 별 발생한 사건 사고 수"
   ]
  },
  {
   "cell_type": "code",
   "execution_count": 336,
   "id": "d29d9686",
   "metadata": {},
   "outputs": [
    {
     "data": {
      "text/html": [
       "<div>\n",
       "<style scoped>\n",
       "    .dataframe tbody tr th:only-of-type {\n",
       "        vertical-align: middle;\n",
       "    }\n",
       "\n",
       "    .dataframe tbody tr th {\n",
       "        vertical-align: top;\n",
       "    }\n",
       "\n",
       "    .dataframe thead th {\n",
       "        text-align: right;\n",
       "    }\n",
       "</style>\n",
       "<table border=\"1\" class=\"dataframe\">\n",
       "  <thead>\n",
       "    <tr style=\"text-align: right;\">\n",
       "      <th></th>\n",
       "      <th>경기</th>\n",
       "    </tr>\n",
       "  </thead>\n",
       "  <tbody>\n",
       "    <tr>\n",
       "      <th>2014</th>\n",
       "      <td>48112</td>\n",
       "    </tr>\n",
       "    <tr>\n",
       "      <th>2015</th>\n",
       "      <td>52954</td>\n",
       "    </tr>\n",
       "    <tr>\n",
       "      <th>2016</th>\n",
       "      <td>51013</td>\n",
       "    </tr>\n",
       "    <tr>\n",
       "      <th>2017</th>\n",
       "      <td>50627</td>\n",
       "    </tr>\n",
       "    <tr>\n",
       "      <th>2018</th>\n",
       "      <td>53448</td>\n",
       "    </tr>\n",
       "    <tr>\n",
       "      <th>2019</th>\n",
       "      <td>55463</td>\n",
       "    </tr>\n",
       "  </tbody>\n",
       "</table>\n",
       "</div>"
      ],
      "text/plain": [
       "         경기\n",
       "2014  48112\n",
       "2015  52954\n",
       "2016  51013\n",
       "2017  50627\n",
       "2018  53448\n",
       "2019  55463"
      ]
     },
     "execution_count": 336,
     "metadata": {},
     "output_type": "execute_result"
    }
   ],
   "source": [
    "kyungi_years = []\n",
    "\n",
    "for i in range(0, 6):\n",
    "    kyungi_years.append(len(kyungi[(kyungi.발생일 >= int(start_years[i])) & (kyungi.발생일 <= int(ends_years[i]))]))\n",
    "\n",
    "kyungi_years_df = pd.DataFrame({\"경기\" : kyungi_years}, index = years)\n",
    "kyungi_years_df"
   ]
  },
  {
   "cell_type": "markdown",
   "id": "7fc787ce",
   "metadata": {},
   "source": [
    "# 서울, 경기 연도 별 발생 사고 수를 하나의 데이터프레임으로 정제"
   ]
  },
  {
   "cell_type": "code",
   "execution_count": 337,
   "id": "13c90f3f",
   "metadata": {},
   "outputs": [
    {
     "data": {
      "text/html": [
       "<div>\n",
       "<style scoped>\n",
       "    .dataframe tbody tr th:only-of-type {\n",
       "        vertical-align: middle;\n",
       "    }\n",
       "\n",
       "    .dataframe tbody tr th {\n",
       "        vertical-align: top;\n",
       "    }\n",
       "\n",
       "    .dataframe thead th {\n",
       "        text-align: right;\n",
       "    }\n",
       "</style>\n",
       "<table border=\"1\" class=\"dataframe\">\n",
       "  <thead>\n",
       "    <tr style=\"text-align: right;\">\n",
       "      <th></th>\n",
       "      <th>서울</th>\n",
       "      <th>경기</th>\n",
       "    </tr>\n",
       "  </thead>\n",
       "  <tbody>\n",
       "    <tr>\n",
       "      <th>2014</th>\n",
       "      <td>40792</td>\n",
       "      <td>48112</td>\n",
       "    </tr>\n",
       "    <tr>\n",
       "      <th>2015</th>\n",
       "      <td>41665</td>\n",
       "      <td>52954</td>\n",
       "    </tr>\n",
       "    <tr>\n",
       "      <th>2016</th>\n",
       "      <td>40039</td>\n",
       "      <td>51013</td>\n",
       "    </tr>\n",
       "    <tr>\n",
       "      <th>2017</th>\n",
       "      <td>38625</td>\n",
       "      <td>50627</td>\n",
       "    </tr>\n",
       "    <tr>\n",
       "      <th>2018</th>\n",
       "      <td>38795</td>\n",
       "      <td>53448</td>\n",
       "    </tr>\n",
       "    <tr>\n",
       "      <th>2019</th>\n",
       "      <td>39258</td>\n",
       "      <td>55463</td>\n",
       "    </tr>\n",
       "  </tbody>\n",
       "</table>\n",
       "</div>"
      ],
      "text/plain": [
       "         서울     경기\n",
       "2014  40792  48112\n",
       "2015  41665  52954\n",
       "2016  40039  51013\n",
       "2017  38625  50627\n",
       "2018  38795  53448\n",
       "2019  39258  55463"
      ]
     },
     "execution_count": 337,
     "metadata": {},
     "output_type": "execute_result"
    }
   ],
   "source": [
    "years_df = seoul_years_df\n",
    "years_df['경기'] = kyungi_years\n",
    "years_df"
   ]
  },
  {
   "cell_type": "code",
   "execution_count": 338,
   "metadata": {},
   "outputs": [
    {
     "data": {
      "text/plain": [
       "array(['종로구', '강북구', '강동구', '구로구', '광진구', '영등포구', '성동구', '중구', '마포구',\n",
       "       '관악구', '양천구', '서대문구', '서초구', '용산구', '중랑구', '성북구', '동대문구', '송파구',\n",
       "       '노원구', '도봉구', '은평구', '금천구', '강남구', '동작구', '강서구'], dtype=object)"
      ]
     },
     "execution_count": 338,
     "metadata": {},
     "output_type": "execute_result"
    }
   ],
   "source": [
    "seoul_detail = seoul.발생지_시군구.unique()\n",
    "seoul_detail"
   ]
  },
  {
   "cell_type": "markdown",
   "id": "e7e6de46",
   "metadata": {},
   "source": [
    "# 서울시 각 구 별 발생한 사건 수를 seoul_cases 리스트에 저장"
   ]
  },
  {
   "cell_type": "code",
   "execution_count": 339,
   "id": "922bd75d",
   "metadata": {},
   "outputs": [
    {
     "name": "stdout",
     "output_type": "stream",
     "text": [
      "종로구 : 7484건 \n",
      "강북구 : 7500건 \n",
      "강동구 : 8565건 \n",
      "구로구 : 9079건 \n",
      "광진구 : 6905건 \n",
      "영등포구 : 14376건 \n",
      "성동구 : 6825건 \n",
      "중구 : 7495건 \n",
      "마포구 : 10353건 \n",
      "관악구 : 8663건 \n",
      "양천구 : 8832건 \n",
      "서대문구 : 6506건 \n",
      "서초구 : 13947건 \n",
      "용산구 : 8148건 \n",
      "중랑구 : 9703건 \n",
      "성북구 : 9455건 \n",
      "동대문구 : 10966건 \n",
      "송파구 : 16403건 \n",
      "노원구 : 9281건 \n",
      "도봉구 : 5402건 \n",
      "은평구 : 6969건 \n",
      "금천구 : 5418건 \n",
      "강남구 : 22072건 \n",
      "동작구 : 8483건 \n",
      "강서구 : 10344건 \n"
     ]
    }
   ],
   "source": [
    "seoul_cases = []\n",
    "\n",
    "for detail in seoul_detail:\n",
    "    temp = len(seoul[seoul.발생지_시군구 == detail])\n",
    "    seoul_cases.append(temp)\n",
    "    print(\"%s : %d건 \" % (detail, temp))"
   ]
  },
  {
   "cell_type": "code",
   "execution_count": 340,
   "id": "d3954c48",
   "metadata": {},
   "outputs": [
    {
     "data": {
      "text/plain": [
       "array(['종로구', '강북구', '강동구', '구로구', '광진구', '영등포구', '성동구', '중구', '마포구',\n",
       "       '관악구', '양천구', '서대문구', '서초구', '용산구', '중랑구', '성북구', '동대문구', '송파구',\n",
       "       '노원구', '도봉구', '은평구', '금천구', '강남구', '동작구', '강서구'], dtype=object)"
      ]
     },
     "execution_count": 340,
     "metadata": {},
     "output_type": "execute_result"
    }
   ],
   "source": [
    "seoul_detail"
   ]
  },
  {
   "cell_type": "markdown",
   "id": "fd6013d8",
   "metadata": {},
   "source": [
    "# 서울시 "
   ]
  },
  {
   "cell_type": "code",
   "execution_count": 341,
   "metadata": {},
   "outputs": [
    {
     "data": {
      "text/html": [
       "<div>\n",
       "<style scoped>\n",
       "    .dataframe tbody tr th:only-of-type {\n",
       "        vertical-align: middle;\n",
       "    }\n",
       "\n",
       "    .dataframe tbody tr th {\n",
       "        vertical-align: top;\n",
       "    }\n",
       "\n",
       "    .dataframe thead th {\n",
       "        text-align: right;\n",
       "    }\n",
       "</style>\n",
       "<table border=\"1\" class=\"dataframe\">\n",
       "  <thead>\n",
       "    <tr style=\"text-align: right;\">\n",
       "      <th></th>\n",
       "      <th>사고_건_수</th>\n",
       "    </tr>\n",
       "  </thead>\n",
       "  <tbody>\n",
       "    <tr>\n",
       "      <th>종로구</th>\n",
       "      <td>7484</td>\n",
       "    </tr>\n",
       "    <tr>\n",
       "      <th>강북구</th>\n",
       "      <td>7500</td>\n",
       "    </tr>\n",
       "    <tr>\n",
       "      <th>강동구</th>\n",
       "      <td>8565</td>\n",
       "    </tr>\n",
       "    <tr>\n",
       "      <th>구로구</th>\n",
       "      <td>9079</td>\n",
       "    </tr>\n",
       "    <tr>\n",
       "      <th>광진구</th>\n",
       "      <td>6905</td>\n",
       "    </tr>\n",
       "    <tr>\n",
       "      <th>영등포구</th>\n",
       "      <td>14376</td>\n",
       "    </tr>\n",
       "    <tr>\n",
       "      <th>성동구</th>\n",
       "      <td>6825</td>\n",
       "    </tr>\n",
       "    <tr>\n",
       "      <th>중구</th>\n",
       "      <td>7495</td>\n",
       "    </tr>\n",
       "    <tr>\n",
       "      <th>마포구</th>\n",
       "      <td>10353</td>\n",
       "    </tr>\n",
       "    <tr>\n",
       "      <th>관악구</th>\n",
       "      <td>8663</td>\n",
       "    </tr>\n",
       "    <tr>\n",
       "      <th>양천구</th>\n",
       "      <td>8832</td>\n",
       "    </tr>\n",
       "    <tr>\n",
       "      <th>서대문구</th>\n",
       "      <td>6506</td>\n",
       "    </tr>\n",
       "    <tr>\n",
       "      <th>서초구</th>\n",
       "      <td>13947</td>\n",
       "    </tr>\n",
       "    <tr>\n",
       "      <th>용산구</th>\n",
       "      <td>8148</td>\n",
       "    </tr>\n",
       "    <tr>\n",
       "      <th>중랑구</th>\n",
       "      <td>9703</td>\n",
       "    </tr>\n",
       "    <tr>\n",
       "      <th>성북구</th>\n",
       "      <td>9455</td>\n",
       "    </tr>\n",
       "    <tr>\n",
       "      <th>동대문구</th>\n",
       "      <td>10966</td>\n",
       "    </tr>\n",
       "    <tr>\n",
       "      <th>송파구</th>\n",
       "      <td>16403</td>\n",
       "    </tr>\n",
       "    <tr>\n",
       "      <th>노원구</th>\n",
       "      <td>9281</td>\n",
       "    </tr>\n",
       "    <tr>\n",
       "      <th>도봉구</th>\n",
       "      <td>5402</td>\n",
       "    </tr>\n",
       "    <tr>\n",
       "      <th>은평구</th>\n",
       "      <td>6969</td>\n",
       "    </tr>\n",
       "    <tr>\n",
       "      <th>금천구</th>\n",
       "      <td>5418</td>\n",
       "    </tr>\n",
       "    <tr>\n",
       "      <th>강남구</th>\n",
       "      <td>22072</td>\n",
       "    </tr>\n",
       "    <tr>\n",
       "      <th>동작구</th>\n",
       "      <td>8483</td>\n",
       "    </tr>\n",
       "    <tr>\n",
       "      <th>강서구</th>\n",
       "      <td>10344</td>\n",
       "    </tr>\n",
       "  </tbody>\n",
       "</table>\n",
       "</div>"
      ],
      "text/plain": [
       "      사고_건_수\n",
       "종로구     7484\n",
       "강북구     7500\n",
       "강동구     8565\n",
       "구로구     9079\n",
       "광진구     6905\n",
       "영등포구   14376\n",
       "성동구     6825\n",
       "중구      7495\n",
       "마포구    10353\n",
       "관악구     8663\n",
       "양천구     8832\n",
       "서대문구    6506\n",
       "서초구    13947\n",
       "용산구     8148\n",
       "중랑구     9703\n",
       "성북구     9455\n",
       "동대문구   10966\n",
       "송파구    16403\n",
       "노원구     9281\n",
       "도봉구     5402\n",
       "은평구     6969\n",
       "금천구     5418\n",
       "강남구    22072\n",
       "동작구     8483\n",
       "강서구    10344"
      ]
     },
     "execution_count": 341,
     "metadata": {},
     "output_type": "execute_result"
    }
   ],
   "source": [
    "seoul_cases_df = pd.DataFrame({\"사고_건_수\" : seoul_cases}, index=seoul_detail)\n",
    "seoul_cases_df"
   ]
  },
  {
   "cell_type": "code",
   "execution_count": 342,
   "id": "4462f558",
   "metadata": {},
   "outputs": [
    {
     "data": {
      "text/plain": [
       "array(['평택시', '이천시', '용인시', '양평군', '고양시', '안산시', '성남시', '의정부시', '부천시',\n",
       "       '안양시', '안성시', '김포시', '수원시', '의왕시', '남양주시', '하남시', '포천시', '광주시',\n",
       "       '화성시', '구리시', '군포시', '파주시', '광명시', '여주시', '시흥시', '가평군', '양주시',\n",
       "       '오산시', '연천군', '과천시', '동두천시'], dtype=object)"
      ]
     },
     "execution_count": 342,
     "metadata": {},
     "output_type": "execute_result"
    }
   ],
   "source": [
    "kyungi_detail = kyungi.발생지_시군구.unique()\n",
    "kyungi_detail"
   ]
  },
  {
   "cell_type": "code",
   "execution_count": 343,
   "id": "48029c30",
   "metadata": {},
   "outputs": [
    {
     "name": "stdout",
     "output_type": "stream",
     "text": [
      "평택시 : 17724건 \n",
      "이천시 : 5953건 \n",
      "용인시 : 18639건 \n",
      "양평군 : 3073건 \n",
      "고양시 : 22905건 \n",
      "안산시 : 22624건 \n",
      "성남시 : 22423건 \n",
      "의정부시 : 9654건 \n",
      "부천시 : 19462건 \n",
      "안양시 : 10887건 \n",
      "안성시 : 6094건 \n",
      "김포시 : 9683건 \n",
      "수원시 : 29877건 \n",
      "의왕시 : 3091건 \n",
      "남양주시 : 13691건 \n",
      "하남시 : 5196건 \n",
      "포천시 : 5347건 \n",
      "광주시 : 8773건 \n",
      "화성시 : 15690건 \n",
      "구리시 : 3965건 \n",
      "군포시 : 4289건 \n",
      "파주시 : 10038건 \n",
      "광명시 : 6268건 \n",
      "여주시 : 3454건 \n",
      "시흥시 : 13491건 \n",
      "가평군 : 2404건 \n",
      "양주시 : 6386건 \n",
      "오산시 : 5307건 \n",
      "연천군 : 1279건 \n",
      "과천시 : 1394건 \n",
      "동두천시 : 2556건 \n"
     ]
    }
   ],
   "source": [
    "kyungi_cases = []\n",
    "\n",
    "for detail in kyungi_detail:\n",
    "    temp = len(kyungi[kyungi.발생지_시군구 == detail])\n",
    "    kyungi_cases.append(temp)\n",
    "    print(\"%s : %d건 \" % (detail, temp))"
   ]
  },
  {
   "cell_type": "code",
   "execution_count": 344,
   "id": "9a08cd0e",
   "metadata": {},
   "outputs": [
    {
     "data": {
      "text/html": [
       "<div>\n",
       "<style scoped>\n",
       "    .dataframe tbody tr th:only-of-type {\n",
       "        vertical-align: middle;\n",
       "    }\n",
       "\n",
       "    .dataframe tbody tr th {\n",
       "        vertical-align: top;\n",
       "    }\n",
       "\n",
       "    .dataframe thead th {\n",
       "        text-align: right;\n",
       "    }\n",
       "</style>\n",
       "<table border=\"1\" class=\"dataframe\">\n",
       "  <thead>\n",
       "    <tr style=\"text-align: right;\">\n",
       "      <th></th>\n",
       "      <th>사건_건_수</th>\n",
       "    </tr>\n",
       "  </thead>\n",
       "  <tbody>\n",
       "    <tr>\n",
       "      <th>평택시</th>\n",
       "      <td>17724</td>\n",
       "    </tr>\n",
       "    <tr>\n",
       "      <th>이천시</th>\n",
       "      <td>5953</td>\n",
       "    </tr>\n",
       "    <tr>\n",
       "      <th>용인시</th>\n",
       "      <td>18639</td>\n",
       "    </tr>\n",
       "    <tr>\n",
       "      <th>양평군</th>\n",
       "      <td>3073</td>\n",
       "    </tr>\n",
       "    <tr>\n",
       "      <th>고양시</th>\n",
       "      <td>22905</td>\n",
       "    </tr>\n",
       "    <tr>\n",
       "      <th>안산시</th>\n",
       "      <td>22624</td>\n",
       "    </tr>\n",
       "    <tr>\n",
       "      <th>성남시</th>\n",
       "      <td>22423</td>\n",
       "    </tr>\n",
       "    <tr>\n",
       "      <th>의정부시</th>\n",
       "      <td>9654</td>\n",
       "    </tr>\n",
       "    <tr>\n",
       "      <th>부천시</th>\n",
       "      <td>19462</td>\n",
       "    </tr>\n",
       "    <tr>\n",
       "      <th>안양시</th>\n",
       "      <td>10887</td>\n",
       "    </tr>\n",
       "    <tr>\n",
       "      <th>안성시</th>\n",
       "      <td>6094</td>\n",
       "    </tr>\n",
       "    <tr>\n",
       "      <th>김포시</th>\n",
       "      <td>9683</td>\n",
       "    </tr>\n",
       "    <tr>\n",
       "      <th>수원시</th>\n",
       "      <td>29877</td>\n",
       "    </tr>\n",
       "    <tr>\n",
       "      <th>의왕시</th>\n",
       "      <td>3091</td>\n",
       "    </tr>\n",
       "    <tr>\n",
       "      <th>남양주시</th>\n",
       "      <td>13691</td>\n",
       "    </tr>\n",
       "    <tr>\n",
       "      <th>하남시</th>\n",
       "      <td>5196</td>\n",
       "    </tr>\n",
       "    <tr>\n",
       "      <th>포천시</th>\n",
       "      <td>5347</td>\n",
       "    </tr>\n",
       "    <tr>\n",
       "      <th>광주시</th>\n",
       "      <td>8773</td>\n",
       "    </tr>\n",
       "    <tr>\n",
       "      <th>화성시</th>\n",
       "      <td>15690</td>\n",
       "    </tr>\n",
       "    <tr>\n",
       "      <th>구리시</th>\n",
       "      <td>3965</td>\n",
       "    </tr>\n",
       "    <tr>\n",
       "      <th>군포시</th>\n",
       "      <td>4289</td>\n",
       "    </tr>\n",
       "    <tr>\n",
       "      <th>파주시</th>\n",
       "      <td>10038</td>\n",
       "    </tr>\n",
       "    <tr>\n",
       "      <th>광명시</th>\n",
       "      <td>6268</td>\n",
       "    </tr>\n",
       "    <tr>\n",
       "      <th>여주시</th>\n",
       "      <td>3454</td>\n",
       "    </tr>\n",
       "    <tr>\n",
       "      <th>시흥시</th>\n",
       "      <td>13491</td>\n",
       "    </tr>\n",
       "    <tr>\n",
       "      <th>가평군</th>\n",
       "      <td>2404</td>\n",
       "    </tr>\n",
       "    <tr>\n",
       "      <th>양주시</th>\n",
       "      <td>6386</td>\n",
       "    </tr>\n",
       "    <tr>\n",
       "      <th>오산시</th>\n",
       "      <td>5307</td>\n",
       "    </tr>\n",
       "    <tr>\n",
       "      <th>연천군</th>\n",
       "      <td>1279</td>\n",
       "    </tr>\n",
       "    <tr>\n",
       "      <th>과천시</th>\n",
       "      <td>1394</td>\n",
       "    </tr>\n",
       "    <tr>\n",
       "      <th>동두천시</th>\n",
       "      <td>2556</td>\n",
       "    </tr>\n",
       "  </tbody>\n",
       "</table>\n",
       "</div>"
      ],
      "text/plain": [
       "      사건_건_수\n",
       "평택시    17724\n",
       "이천시     5953\n",
       "용인시    18639\n",
       "양평군     3073\n",
       "고양시    22905\n",
       "안산시    22624\n",
       "성남시    22423\n",
       "의정부시    9654\n",
       "부천시    19462\n",
       "안양시    10887\n",
       "안성시     6094\n",
       "김포시     9683\n",
       "수원시    29877\n",
       "의왕시     3091\n",
       "남양주시   13691\n",
       "하남시     5196\n",
       "포천시     5347\n",
       "광주시     8773\n",
       "화성시    15690\n",
       "구리시     3965\n",
       "군포시     4289\n",
       "파주시    10038\n",
       "광명시     6268\n",
       "여주시     3454\n",
       "시흥시    13491\n",
       "가평군     2404\n",
       "양주시     6386\n",
       "오산시     5307\n",
       "연천군     1279\n",
       "과천시     1394\n",
       "동두천시    2556"
      ]
     },
     "execution_count": 344,
     "metadata": {},
     "output_type": "execute_result"
    }
   ],
   "source": [
    "kyungi_cases_df = pd.DataFrame({\"사건_건_수\" : kyungi_cases}, index=kyungi_detail)\n",
    "kyungi_cases_df"
   ]
  },
  {
   "cell_type": "code",
   "execution_count": 345,
   "id": "51019f5f",
   "metadata": {},
   "outputs": [
    {
     "data": {
      "text/plain": [
       "<BarContainer object of 25 artists>"
      ]
     },
     "execution_count": 345,
     "metadata": {},
     "output_type": "execute_result"
    },
    {
     "data": {
      "image/png": "[encoded data removed]",
      "text/plain": [
       "<Figure size 2160x1080 with 1 Axes>"
      ]
     },
     "metadata": {
      "needs_background": "light"
     },
     "output_type": "display_data"
    }
   ],
   "source": [
    "plt.figure(figsize=(30, 15))\n",
    "for i, v in enumerate(seoul_detail):\n",
    "    plt.text(v, seoul_cases[i], str(seoul_cases[i]) + \"건\\n\",\n",
    "    fontsize = 11, horizontalalignment = 'center')\n",
    "\n",
    "plt.bar(seoul_detail, seoul_cases)"
   ]
  },
  {
   "cell_type": "code",
   "execution_count": 346,
   "id": "1a846258",
   "metadata": {},
   "outputs": [
    {
     "data": {
      "text/plain": [
       "<BarContainer object of 31 artists>"
      ]
     },
     "execution_count": 346,
     "metadata": {},
     "output_type": "execute_result"
    },
    {
     "data": {
      "image/png": "[encoded data removed]",
      "text/plain": [
       "<Figure size 2160x1080 with 1 Axes>"
      ]
     },
     "metadata": {
      "needs_background": "light"
     },
     "output_type": "display_data"
    }
   ],
   "source": [
    "plt.figure(figsize = (30, 15))\n",
    "for i, v in enumerate(kyungi_detail):\n",
    "    plt.text(v, kyungi_cases[i], str(kyungi_cases[i]) + \"건\\n\", fontsize = 11, horizontalalignment='center')\n",
    "plt.bar(kyungi_detail, kyungi_cases)"
   ]
  },
  {
   "cell_type": "code",
   "execution_count": 347,
   "id": "628a8728",
   "metadata": {},
   "outputs": [
    {
     "data": {
      "text/plain": [
       "array(['젖음/습기', '건조', '기타', '서리/결빙', '적설', '해빙', '침수'], dtype=object)"
      ]
     },
     "execution_count": 347,
     "metadata": {},
     "output_type": "execute_result"
    }
   ],
   "source": [
    "road_status = cases.노면상태.unique()\n",
    "road_status"
   ]
  },
  {
   "cell_type": "code",
   "execution_count": 348,
   "id": "604ef79f",
   "metadata": {},
   "outputs": [
    {
     "data": {
      "text/plain": [
       "array(['흐림', '맑음', '기타/불명', '눈', '비', '안개'], dtype=object)"
      ]
     },
     "execution_count": 348,
     "metadata": {},
     "output_type": "execute_result"
    }
   ],
   "source": [
    "climate_status = cases.기상상태.unique()\n",
    "climate_status"
   ]
  },
  {
   "cell_type": "code",
   "execution_count": 349,
   "metadata": {},
   "outputs": [
    {
     "data": {
      "text/plain": [
       "array(['상해없음', '경상', '중상', '부상신고', '없음', '사망', '기타불명'], dtype=object)"
      ]
     },
     "execution_count": 349,
     "metadata": {},
     "output_type": "execute_result"
    }
   ],
   "source": [
    "victim_degrees = cases.피해자신체상해정도.unique()\n",
    "victim_degrees"
   ]
  },
  {
   "cell_type": "code",
   "execution_count": 350,
   "id": "060fa49a",
   "metadata": {},
   "outputs": [],
   "source": [
    "cases_mid = []\n",
    "cases_dead = []\n",
    "road_status_cases = []"
   ]
  },
  {
   "cell_type": "code",
   "execution_count": 351,
   "id": "755ed4d7",
   "metadata": {},
   "outputs": [],
   "source": [
    "wet = cases[cases.노면상태 == '젖음/습기']\n",
    "wet_mid = wet[wet.피해자신체상해정도 == '중상']\n",
    "wet_dead = wet[wet.피해자신체상해정도 == '사망']\n",
    "\n",
    "cases_mid.append(len(wet_mid))\n",
    "cases_dead.append(len(wet_dead))\n",
    "\n",
    "road_status_cases.append(len(wet))"
   ]
  },
  {
   "cell_type": "code",
   "execution_count": 352,
   "id": "07b2dbc0",
   "metadata": {},
   "outputs": [],
   "source": [
    "dry = cases[cases.노면상태 == '건조']\n",
    "dry_mid = dry[dry.피해자신체상해정도 == '중상']\n",
    "dry_dead = dry[dry.피해자신체상해정도 == '사망']\n",
    "\n",
    "cases_mid.append(len(dry_mid))\n",
    "cases_dead.append(len(dry_dead))\n",
    "\n",
    "road_status_cases.append(len(dry))"
   ]
  },
  {
   "cell_type": "code",
   "execution_count": 353,
   "id": "240d8436",
   "metadata": {},
   "outputs": [],
   "source": [
    "etc = cases[cases.노면상태 == '기타']\n",
    "etc_mid = etc[etc.피해자신체상해정도 == '중상']\n",
    "etc_dead = etc[etc.피해자신체상해정도 == '사망']\n",
    "\n",
    "cases_mid.append(len(etc_mid))\n",
    "cases_dead.append(len(etc_dead))\n",
    "\n",
    "road_status_cases.append(len(etc))"
   ]
  },
  {
   "cell_type": "code",
   "execution_count": 354,
   "id": "d4f879ba",
   "metadata": {},
   "outputs": [],
   "source": [
    "frost = cases[cases.노면상태 == '서리/결빙']\n",
    "frost_mid = frost[frost.피해자신체상해정도 == '중상']\n",
    "frost_dead = frost[frost.피해자신체상해정도 == '사망']\n",
    "\n",
    "cases_mid.append(len(frost_mid))\n",
    "cases_dead.append(len(frost_dead))\n",
    "\n",
    "road_status_cases.append(len(frost))"
   ]
  },
  {
   "cell_type": "code",
   "execution_count": 355,
   "id": "a64450de",
   "metadata": {},
   "outputs": [],
   "source": [
    "snow_cover = cases[cases.노면상태 == '적설']\n",
    "snow_cover_mid = snow_cover[snow_cover.피해자신체상해정도 == '중상']\n",
    "snow_cover_dead = snow_cover[snow_cover.피해자신체상해정도 == '사망']\n",
    "\n",
    "cases_mid.append(len(snow_cover_mid))\n",
    "cases_dead.append(len(snow_cover_dead))\n",
    "\n",
    "road_status_cases.append(len(snow_cover))"
   ]
  },
  {
   "cell_type": "code",
   "execution_count": 356,
   "id": "42ed5a42",
   "metadata": {},
   "outputs": [],
   "source": [
    "thaw = cases[cases.노면상태 == '해빙']\n",
    "thaw_mid = thaw[thaw.피해자신체상해정도 == '중상']\n",
    "thaw_dead = thaw[thaw.피해자신체상해정도 == '사망']\n",
    "\n",
    "cases_mid.append(len(thaw_mid))\n",
    "cases_dead.append(len(thaw_dead))\n",
    "\n",
    "road_status_cases.append(len(thaw))"
   ]
  },
  {
   "cell_type": "code",
   "execution_count": 357,
   "id": "21848b7f",
   "metadata": {},
   "outputs": [],
   "source": [
    "flooding = cases[cases.노면상태 == '침수']\n",
    "flooding_mid = flooding[flooding.피해자신체상해정도 == '중상']\n",
    "flooding_dead = flooding[flooding.피해자신체상해정도 == '사망']\n",
    "\n",
    "cases_mid.append(len(flooding_mid))\n",
    "cases_dead.append(len(flooding_dead))\n",
    "\n",
    "road_status_cases.append(len(flooding))"
   ]
  },
  {
   "cell_type": "code",
   "execution_count": 358,
   "id": "6d308456",
   "metadata": {},
   "outputs": [
    {
     "data": {
      "text/plain": [
       "[10161, 109193, 1771, 508, 251, 2, 6]"
      ]
     },
     "execution_count": 358,
     "metadata": {},
     "output_type": "execute_result"
    }
   ],
   "source": [
    "cases_mid"
   ]
  },
  {
   "cell_type": "code",
   "execution_count": 359,
   "id": "70ba0844",
   "metadata": {},
   "outputs": [
    {
     "data": {
      "text/plain": [
       "[471, 3265, 47, 17, 11, 0, 0]"
      ]
     },
     "execution_count": 359,
     "metadata": {},
     "output_type": "execute_result"
    }
   ],
   "source": [
    "cases_dead"
   ]
  },
  {
   "cell_type": "code",
   "execution_count": 360,
   "id": "7d0a9dcc",
   "metadata": {},
   "outputs": [
    {
     "data": {
      "text/html": [
       "<div>\n",
       "<style scoped>\n",
       "    .dataframe tbody tr th:only-of-type {\n",
       "        vertical-align: middle;\n",
       "    }\n",
       "\n",
       "    .dataframe tbody tr th {\n",
       "        vertical-align: top;\n",
       "    }\n",
       "\n",
       "    .dataframe thead th {\n",
       "        text-align: right;\n",
       "    }\n",
       "</style>\n",
       "<table border=\"1\" class=\"dataframe\">\n",
       "  <thead>\n",
       "    <tr style=\"text-align: right;\">\n",
       "      <th></th>\n",
       "      <th>중상_건_수</th>\n",
       "    </tr>\n",
       "  </thead>\n",
       "  <tbody>\n",
       "    <tr>\n",
       "      <th>젖음/습기</th>\n",
       "      <td>10161</td>\n",
       "    </tr>\n",
       "    <tr>\n",
       "      <th>건조</th>\n",
       "      <td>109193</td>\n",
       "    </tr>\n",
       "    <tr>\n",
       "      <th>기타</th>\n",
       "      <td>1771</td>\n",
       "    </tr>\n",
       "    <tr>\n",
       "      <th>서리/결빙</th>\n",
       "      <td>508</td>\n",
       "    </tr>\n",
       "    <tr>\n",
       "      <th>적설</th>\n",
       "      <td>251</td>\n",
       "    </tr>\n",
       "    <tr>\n",
       "      <th>해빙</th>\n",
       "      <td>2</td>\n",
       "    </tr>\n",
       "    <tr>\n",
       "      <th>침수</th>\n",
       "      <td>6</td>\n",
       "    </tr>\n",
       "  </tbody>\n",
       "</table>\n",
       "</div>"
      ],
      "text/plain": [
       "       중상_건_수\n",
       "젖음/습기   10161\n",
       "건조     109193\n",
       "기타       1771\n",
       "서리/결빙     508\n",
       "적설        251\n",
       "해빙          2\n",
       "침수          6"
      ]
     },
     "execution_count": 360,
     "metadata": {},
     "output_type": "execute_result"
    }
   ],
   "source": [
    "mid_df = pd.DataFrame({\"중상_건_수\" : cases_mid}, index = road_status)\n",
    "mid_df"
   ]
  },
  {
   "cell_type": "code",
   "execution_count": 361,
   "id": "3a6f236a",
   "metadata": {},
   "outputs": [
    {
     "data": {
      "text/html": [
       "<div>\n",
       "<style scoped>\n",
       "    .dataframe tbody tr th:only-of-type {\n",
       "        vertical-align: middle;\n",
       "    }\n",
       "\n",
       "    .dataframe tbody tr th {\n",
       "        vertical-align: top;\n",
       "    }\n",
       "\n",
       "    .dataframe thead th {\n",
       "        text-align: right;\n",
       "    }\n",
       "</style>\n",
       "<table border=\"1\" class=\"dataframe\">\n",
       "  <thead>\n",
       "    <tr style=\"text-align: right;\">\n",
       "      <th></th>\n",
       "      <th>사망_건_수</th>\n",
       "    </tr>\n",
       "  </thead>\n",
       "  <tbody>\n",
       "    <tr>\n",
       "      <th>젖음/습기</th>\n",
       "      <td>471</td>\n",
       "    </tr>\n",
       "    <tr>\n",
       "      <th>건조</th>\n",
       "      <td>3265</td>\n",
       "    </tr>\n",
       "    <tr>\n",
       "      <th>기타</th>\n",
       "      <td>47</td>\n",
       "    </tr>\n",
       "    <tr>\n",
       "      <th>서리/결빙</th>\n",
       "      <td>17</td>\n",
       "    </tr>\n",
       "    <tr>\n",
       "      <th>적설</th>\n",
       "      <td>11</td>\n",
       "    </tr>\n",
       "    <tr>\n",
       "      <th>해빙</th>\n",
       "      <td>0</td>\n",
       "    </tr>\n",
       "    <tr>\n",
       "      <th>침수</th>\n",
       "      <td>0</td>\n",
       "    </tr>\n",
       "  </tbody>\n",
       "</table>\n",
       "</div>"
      ],
      "text/plain": [
       "       사망_건_수\n",
       "젖음/습기     471\n",
       "건조       3265\n",
       "기타         47\n",
       "서리/결빙      17\n",
       "적설         11\n",
       "해빙          0\n",
       "침수          0"
      ]
     },
     "execution_count": 361,
     "metadata": {},
     "output_type": "execute_result"
    }
   ],
   "source": [
    "dead_df = pd.DataFrame({\"사망_건_수\" : cases_dead}, index = road_status)\n",
    "dead_df"
   ]
  },
  {
   "cell_type": "code",
   "execution_count": 362,
   "id": "7d4f9b06",
   "metadata": {},
   "outputs": [
    {
     "data": {
      "text/html": [
       "<div>\n",
       "<style scoped>\n",
       "    .dataframe tbody tr th:only-of-type {\n",
       "        vertical-align: middle;\n",
       "    }\n",
       "\n",
       "    .dataframe tbody tr th {\n",
       "        vertical-align: top;\n",
       "    }\n",
       "\n",
       "    .dataframe thead th {\n",
       "        text-align: right;\n",
       "    }\n",
       "</style>\n",
       "<table border=\"1\" class=\"dataframe\">\n",
       "  <thead>\n",
       "    <tr style=\"text-align: right;\">\n",
       "      <th></th>\n",
       "      <th>중상_건_수</th>\n",
       "      <th>사망_건_수</th>\n",
       "    </tr>\n",
       "  </thead>\n",
       "  <tbody>\n",
       "    <tr>\n",
       "      <th>젖음/습기</th>\n",
       "      <td>10161</td>\n",
       "      <td>471</td>\n",
       "    </tr>\n",
       "    <tr>\n",
       "      <th>건조</th>\n",
       "      <td>109193</td>\n",
       "      <td>3265</td>\n",
       "    </tr>\n",
       "    <tr>\n",
       "      <th>기타</th>\n",
       "      <td>1771</td>\n",
       "      <td>47</td>\n",
       "    </tr>\n",
       "    <tr>\n",
       "      <th>서리/결빙</th>\n",
       "      <td>508</td>\n",
       "      <td>17</td>\n",
       "    </tr>\n",
       "    <tr>\n",
       "      <th>적설</th>\n",
       "      <td>251</td>\n",
       "      <td>11</td>\n",
       "    </tr>\n",
       "    <tr>\n",
       "      <th>해빙</th>\n",
       "      <td>2</td>\n",
       "      <td>0</td>\n",
       "    </tr>\n",
       "    <tr>\n",
       "      <th>침수</th>\n",
       "      <td>6</td>\n",
       "      <td>0</td>\n",
       "    </tr>\n",
       "  </tbody>\n",
       "</table>\n",
       "</div>"
      ],
      "text/plain": [
       "       중상_건_수  사망_건_수\n",
       "젖음/습기   10161     471\n",
       "건조     109193    3265\n",
       "기타       1771      47\n",
       "서리/결빙     508      17\n",
       "적설        251      11\n",
       "해빙          2       0\n",
       "침수          6       0"
      ]
     },
     "execution_count": 362,
     "metadata": {},
     "output_type": "execute_result"
    }
   ],
   "source": [
    "total_df = mid_df\n",
    "total_df['사망_건_수'] = dead_df\n",
    "total_df"
   ]
  },
  {
   "cell_type": "code",
   "execution_count": 363,
   "id": "08c2a2c0",
   "metadata": {},
   "outputs": [
    {
     "data": {
      "text/plain": [
       "[44596, 493955, 7880, 2842, 1486, 11, 21]"
      ]
     },
     "execution_count": 363,
     "metadata": {},
     "output_type": "execute_result"
    }
   ],
   "source": [
    "road_status_cases"
   ]
  },
  {
   "cell_type": "code",
   "execution_count": 364,
   "id": "91ca4fae",
   "metadata": {},
   "outputs": [
    {
     "data": {
      "text/html": [
       "<div>\n",
       "<style scoped>\n",
       "    .dataframe tbody tr th:only-of-type {\n",
       "        vertical-align: middle;\n",
       "    }\n",
       "\n",
       "    .dataframe tbody tr th {\n",
       "        vertical-align: top;\n",
       "    }\n",
       "\n",
       "    .dataframe thead th {\n",
       "        text-align: right;\n",
       "    }\n",
       "</style>\n",
       "<table border=\"1\" class=\"dataframe\">\n",
       "  <thead>\n",
       "    <tr style=\"text-align: right;\">\n",
       "      <th></th>\n",
       "      <th>노면상태별_사고_건_수</th>\n",
       "    </tr>\n",
       "  </thead>\n",
       "  <tbody>\n",
       "    <tr>\n",
       "      <th>젖음/습기</th>\n",
       "      <td>44596</td>\n",
       "    </tr>\n",
       "    <tr>\n",
       "      <th>건조</th>\n",
       "      <td>493955</td>\n",
       "    </tr>\n",
       "    <tr>\n",
       "      <th>기타</th>\n",
       "      <td>7880</td>\n",
       "    </tr>\n",
       "    <tr>\n",
       "      <th>서리/결빙</th>\n",
       "      <td>2842</td>\n",
       "    </tr>\n",
       "    <tr>\n",
       "      <th>적설</th>\n",
       "      <td>1486</td>\n",
       "    </tr>\n",
       "    <tr>\n",
       "      <th>해빙</th>\n",
       "      <td>11</td>\n",
       "    </tr>\n",
       "    <tr>\n",
       "      <th>침수</th>\n",
       "      <td>21</td>\n",
       "    </tr>\n",
       "  </tbody>\n",
       "</table>\n",
       "</div>"
      ],
      "text/plain": [
       "       노면상태별_사고_건_수\n",
       "젖음/습기         44596\n",
       "건조           493955\n",
       "기타             7880\n",
       "서리/결빙          2842\n",
       "적설             1486\n",
       "해빙               11\n",
       "침수               21"
      ]
     },
     "execution_count": 364,
     "metadata": {},
     "output_type": "execute_result"
    }
   ],
   "source": [
    "df_road_status_cases = pd.DataFrame({\"노면상태별_사고_건_수\" : road_status_cases}, index = road_status)\n",
    "df_road_status_cases"
   ]
  },
  {
   "cell_type": "code",
   "execution_count": 365,
   "id": "e39cf4e5",
   "metadata": {},
   "outputs": [],
   "source": [
    "road_status_per = []"
   ]
  },
  {
   "cell_type": "code",
   "execution_count": 366,
   "id": "1d9f609b",
   "metadata": {},
   "outputs": [],
   "source": [
    "wet_cases_per = ((total_df.중상_건_수.loc['젖음/습기'] + total_df.사망_건_수.loc['젖음/습기']) / \n",
    "(df_road_status_cases.노면상태별_사고_건_수.loc['젖음/습기'])) * 100\n",
    "\n",
    "road_status_per.append(wet_cases_per)"
   ]
  },
  {
   "cell_type": "code",
   "execution_count": 367,
   "id": "5c1b8126",
   "metadata": {},
   "outputs": [],
   "source": [
    "dry_cases_per = ((total_df.중상_건_수.loc['건조'] + total_df.사망_건_수.loc['건조']) / \n",
    "(df_road_status_cases.노면상태별_사고_건_수.loc['건조'])) * 100\n",
    "\n",
    "road_status_per.append(dry_cases_per)"
   ]
  },
  {
   "cell_type": "code",
   "execution_count": 368,
   "id": "91d1f09b",
   "metadata": {},
   "outputs": [],
   "source": [
    "etc_cases_per = ((total_df.중상_건_수.loc['기타'] + total_df.사망_건_수.loc['기타']) / \n",
    "(df_road_status_cases.노면상태별_사고_건_수.loc['기타'])) * 100\n",
    "\n",
    "road_status_per.append(etc_cases_per)"
   ]
  },
  {
   "cell_type": "code",
   "execution_count": 369,
   "id": "1045a867",
   "metadata": {},
   "outputs": [],
   "source": [
    "frost_cases_per = ((total_df.중상_건_수.loc['서리/결빙'] + total_df.사망_건_수.loc['서리/결빙']) / \n",
    "(df_road_status_cases.노면상태별_사고_건_수.loc['서리/결빙'])) * 100\n",
    "\n",
    "road_status_per.append(frost_cases_per)"
   ]
  },
  {
   "cell_type": "code",
   "execution_count": 370,
   "id": "2489ff39",
   "metadata": {},
   "outputs": [],
   "source": [
    "snow_cover_cases_per = ((total_df.중상_건_수.loc['적설'] + total_df.사망_건_수.loc['적설']) / \n",
    "(df_road_status_cases.노면상태별_사고_건_수.loc['적설'])) * 100\n",
    "\n",
    "road_status_per.append(snow_cover_cases_per)"
   ]
  },
  {
   "cell_type": "code",
   "execution_count": 371,
   "id": "3e5509c6",
   "metadata": {},
   "outputs": [],
   "source": [
    "thaw_cases_per = ((total_df.중상_건_수.loc['해빙'] + total_df.사망_건_수.loc['해빙']) / \n",
    "(df_road_status_cases.노면상태별_사고_건_수.loc['해빙'])) * 100\n",
    "\n",
    "road_status_per.append(thaw_cases_per)"
   ]
  },
  {
   "cell_type": "code",
   "execution_count": 372,
   "id": "e5acd470",
   "metadata": {},
   "outputs": [],
   "source": [
    "flooding_cases_per = ((total_df.중상_건_수.loc['침수'] + total_df.사망_건_수.loc['침수']) / \n",
    "(df_road_status_cases.노면상태별_사고_건_수.loc['침수'])) * 100\n",
    "\n",
    "road_status_per.append(flooding_cases_per)"
   ]
  },
  {
   "cell_type": "code",
   "execution_count": 373,
   "id": "fd998282",
   "metadata": {},
   "outputs": [
    {
     "data": {
      "text/html": [
       "<div>\n",
       "<style scoped>\n",
       "    .dataframe tbody tr th:only-of-type {\n",
       "        vertical-align: middle;\n",
       "    }\n",
       "\n",
       "    .dataframe tbody tr th {\n",
       "        vertical-align: top;\n",
       "    }\n",
       "\n",
       "    .dataframe thead th {\n",
       "        text-align: right;\n",
       "    }\n",
       "</style>\n",
       "<table border=\"1\" class=\"dataframe\">\n",
       "  <thead>\n",
       "    <tr style=\"text-align: right;\">\n",
       "      <th></th>\n",
       "      <th>%</th>\n",
       "    </tr>\n",
       "  </thead>\n",
       "  <tbody>\n",
       "    <tr>\n",
       "      <th>젖음/습기</th>\n",
       "      <td>23.840703</td>\n",
       "    </tr>\n",
       "    <tr>\n",
       "      <th>건조</th>\n",
       "      <td>22.766851</td>\n",
       "    </tr>\n",
       "    <tr>\n",
       "      <th>기타</th>\n",
       "      <td>23.071066</td>\n",
       "    </tr>\n",
       "    <tr>\n",
       "      <th>서리/결빙</th>\n",
       "      <td>18.472906</td>\n",
       "    </tr>\n",
       "    <tr>\n",
       "      <th>적설</th>\n",
       "      <td>17.631225</td>\n",
       "    </tr>\n",
       "    <tr>\n",
       "      <th>해빙</th>\n",
       "      <td>18.181818</td>\n",
       "    </tr>\n",
       "    <tr>\n",
       "      <th>침수</th>\n",
       "      <td>28.571429</td>\n",
       "    </tr>\n",
       "  </tbody>\n",
       "</table>\n",
       "</div>"
      ],
      "text/plain": [
       "               %\n",
       "젖음/습기  23.840703\n",
       "건조     22.766851\n",
       "기타     23.071066\n",
       "서리/결빙  18.472906\n",
       "적설     17.631225\n",
       "해빙     18.181818\n",
       "침수     28.571429"
      ]
     },
     "execution_count": 373,
     "metadata": {},
     "output_type": "execute_result"
    }
   ],
   "source": [
    "df_road_status_per = pd.DataFrame({\"%\" : road_status_per}, index = road_status)\n",
    "df_road_status_per"
   ]
  },
  {
   "cell_type": "code",
   "execution_count": 374,
   "id": "abedcb50",
   "metadata": {},
   "outputs": [],
   "source": [
    "climate_mid = []\n",
    "climate_dead = []\n",
    "climate_status_cases = []"
   ]
  },
  {
   "cell_type": "code",
   "execution_count": 375,
   "id": "1f9f7b86",
   "metadata": {},
   "outputs": [
    {
     "data": {
      "text/plain": [
       "array(['흐림', '맑음', '기타/불명', '눈', '비', '안개'], dtype=object)"
      ]
     },
     "execution_count": 375,
     "metadata": {},
     "output_type": "execute_result"
    }
   ],
   "source": [
    "climate_status"
   ]
  },
  {
   "cell_type": "code",
   "execution_count": 376,
   "id": "07235926",
   "metadata": {},
   "outputs": [],
   "source": [
    "cloudy = cases[cases.기상상태 == '흐림']\n",
    "cloudy_mid = cloudy[cloudy.피해자신체상해정도 == '중상']\n",
    "cloudy_dead = cloudy[cloudy.피해자신체상해정도 == '사망']\n",
    "\n",
    "climate_mid.append(len(cloudy_mid))\n",
    "climate_dead.append(len(cloudy_dead))\n",
    "\n",
    "climate_status_cases.append(len(cloudy))"
   ]
  },
  {
   "cell_type": "code",
   "execution_count": 377,
   "id": "bbec7228",
   "metadata": {},
   "outputs": [],
   "source": [
    "sunny = cases[cases.기상상태 == '맑음']\n",
    "sunny_mid = sunny[sunny.피해자신체상해정도 == '중상']\n",
    "sunny_dead = sunny[sunny.피해자신체상해정도 == '사망']\n",
    "\n",
    "climate_mid.append(len(sunny_mid))\n",
    "climate_dead.append(len(sunny_dead))\n",
    "\n",
    "climate_status_cases.append(len(sunny))"
   ]
  },
  {
   "cell_type": "code",
   "execution_count": 378,
   "id": "396c29bc",
   "metadata": {},
   "outputs": [],
   "source": [
    "unknown = cases[cases.기상상태 == '기타/불명']\n",
    "unknown_mid = unknown[unknown.피해자신체상해정도 == '중상']\n",
    "unknown_dead = unknown[unknown.피해자신체상해정도 == '사망']\n",
    "\n",
    "climate_mid.append(len(unknown_mid))\n",
    "climate_dead.append(len(unknown_dead))\n",
    "\n",
    "climate_status_cases.append(len(unknown))"
   ]
  },
  {
   "cell_type": "code",
   "execution_count": 379,
   "id": "31e24989",
   "metadata": {},
   "outputs": [],
   "source": [
    "snow = cases[cases.기상상태 == '눈']\n",
    "snow_mid = snow[snow.피해자신체상해정도 == '중상']\n",
    "snow_dead = snow[snow.피해자신체상해정도 == '사망']\n",
    "\n",
    "climate_mid.append(len(snow_mid))\n",
    "climate_dead.append(len(snow_dead))\n",
    "\n",
    "climate_status_cases.append(len(snow))"
   ]
  },
  {
   "cell_type": "code",
   "execution_count": 380,
   "id": "525f8507",
   "metadata": {},
   "outputs": [],
   "source": [
    "rain = cases[cases.기상상태 == '비']\n",
    "rain_mid = cases[cases.피해자신체상해정도 == '중상']\n",
    "rain_dead = cases[cases.피해자신체상해정도 == '사망']\n",
    "\n",
    "climate_mid.append(len(rain_mid))\n",
    "climate_dead.append(len(rain_dead))\n",
    "\n",
    "climate_status_cases.append(len(rain))"
   ]
  },
  {
   "cell_type": "code",
   "execution_count": 381,
   "id": "4f87f932",
   "metadata": {},
   "outputs": [],
   "source": [
    "fog = cases[cases.기상상태 == '안개']\n",
    "fog_mid = cases[cases.피해자신체상해정도 == '중상']\n",
    "fog_dead = cases[cases.피해자신체상해정도 == '사망']\n",
    "\n",
    "climate_mid.append(len(fog_mid))\n",
    "climate_dead.append(len(fog_dead))\n",
    "\n",
    "climate_status_cases.append(len(fog))"
   ]
  },
  {
   "cell_type": "code",
   "execution_count": 382,
   "id": "cc66fe28",
   "metadata": {},
   "outputs": [
    {
     "name": "stdout",
     "output_type": "stream",
     "text": [
      "[4615, 108059, 1022, 551, 121892, 121892]\n",
      "[264, 3185, 19, 22, 3811, 3811]\n",
      "[19517, 490050, 4711, 2933, 33143, 437]\n"
     ]
    }
   ],
   "source": [
    "print(climate_mid)\n",
    "print(climate_dead)\n",
    "print(climate_status_cases)"
   ]
  },
  {
   "cell_type": "code",
   "execution_count": 383,
   "id": "aa1e6cdc",
   "metadata": {},
   "outputs": [
    {
     "data": {
      "text/html": [
       "<div>\n",
       "<style scoped>\n",
       "    .dataframe tbody tr th:only-of-type {\n",
       "        vertical-align: middle;\n",
       "    }\n",
       "\n",
       "    .dataframe tbody tr th {\n",
       "        vertical-align: top;\n",
       "    }\n",
       "\n",
       "    .dataframe thead th {\n",
       "        text-align: right;\n",
       "    }\n",
       "</style>\n",
       "<table border=\"1\" class=\"dataframe\">\n",
       "  <thead>\n",
       "    <tr style=\"text-align: right;\">\n",
       "      <th></th>\n",
       "      <th>중상_건_수</th>\n",
       "    </tr>\n",
       "  </thead>\n",
       "  <tbody>\n",
       "    <tr>\n",
       "      <th>흐림</th>\n",
       "      <td>4615</td>\n",
       "    </tr>\n",
       "    <tr>\n",
       "      <th>맑음</th>\n",
       "      <td>108059</td>\n",
       "    </tr>\n",
       "    <tr>\n",
       "      <th>기타/불명</th>\n",
       "      <td>1022</td>\n",
       "    </tr>\n",
       "    <tr>\n",
       "      <th>눈</th>\n",
       "      <td>551</td>\n",
       "    </tr>\n",
       "    <tr>\n",
       "      <th>비</th>\n",
       "      <td>121892</td>\n",
       "    </tr>\n",
       "    <tr>\n",
       "      <th>안개</th>\n",
       "      <td>121892</td>\n",
       "    </tr>\n",
       "  </tbody>\n",
       "</table>\n",
       "</div>"
      ],
      "text/plain": [
       "       중상_건_수\n",
       "흐림       4615\n",
       "맑음     108059\n",
       "기타/불명    1022\n",
       "눈         551\n",
       "비      121892\n",
       "안개     121892"
      ]
     },
     "execution_count": 383,
     "metadata": {},
     "output_type": "execute_result"
    }
   ],
   "source": [
    "climate_mid_df = pd.DataFrame({\"중상_건_수\" : climate_mid}, index = climate_status)\n",
    "climate_mid_df"
   ]
  },
  {
   "cell_type": "code",
   "execution_count": 384,
   "id": "dd2b6340",
   "metadata": {},
   "outputs": [
    {
     "data": {
      "text/html": [
       "<div>\n",
       "<style scoped>\n",
       "    .dataframe tbody tr th:only-of-type {\n",
       "        vertical-align: middle;\n",
       "    }\n",
       "\n",
       "    .dataframe tbody tr th {\n",
       "        vertical-align: top;\n",
       "    }\n",
       "\n",
       "    .dataframe thead th {\n",
       "        text-align: right;\n",
       "    }\n",
       "</style>\n",
       "<table border=\"1\" class=\"dataframe\">\n",
       "  <thead>\n",
       "    <tr style=\"text-align: right;\">\n",
       "      <th></th>\n",
       "      <th>사망_건_수</th>\n",
       "    </tr>\n",
       "  </thead>\n",
       "  <tbody>\n",
       "    <tr>\n",
       "      <th>흐림</th>\n",
       "      <td>264</td>\n",
       "    </tr>\n",
       "    <tr>\n",
       "      <th>맑음</th>\n",
       "      <td>3185</td>\n",
       "    </tr>\n",
       "    <tr>\n",
       "      <th>기타/불명</th>\n",
       "      <td>19</td>\n",
       "    </tr>\n",
       "    <tr>\n",
       "      <th>눈</th>\n",
       "      <td>22</td>\n",
       "    </tr>\n",
       "    <tr>\n",
       "      <th>비</th>\n",
       "      <td>3811</td>\n",
       "    </tr>\n",
       "    <tr>\n",
       "      <th>안개</th>\n",
       "      <td>3811</td>\n",
       "    </tr>\n",
       "  </tbody>\n",
       "</table>\n",
       "</div>"
      ],
      "text/plain": [
       "       사망_건_수\n",
       "흐림        264\n",
       "맑음       3185\n",
       "기타/불명      19\n",
       "눈          22\n",
       "비        3811\n",
       "안개       3811"
      ]
     },
     "execution_count": 384,
     "metadata": {},
     "output_type": "execute_result"
    }
   ],
   "source": [
    "climate_dead_df = pd.DataFrame({\"사망_건_수\" : climate_dead}, index = climate_status)\n",
    "climate_dead_df"
   ]
  },
  {
   "cell_type": "code",
   "execution_count": 385,
   "id": "1e4e0d1a",
   "metadata": {},
   "outputs": [
    {
     "data": {
      "text/html": [
       "<div>\n",
       "<style scoped>\n",
       "    .dataframe tbody tr th:only-of-type {\n",
       "        vertical-align: middle;\n",
       "    }\n",
       "\n",
       "    .dataframe tbody tr th {\n",
       "        vertical-align: top;\n",
       "    }\n",
       "\n",
       "    .dataframe thead th {\n",
       "        text-align: right;\n",
       "    }\n",
       "</style>\n",
       "<table border=\"1\" class=\"dataframe\">\n",
       "  <thead>\n",
       "    <tr style=\"text-align: right;\">\n",
       "      <th></th>\n",
       "      <th>중상_건_수</th>\n",
       "      <th>사망_건_수</th>\n",
       "    </tr>\n",
       "  </thead>\n",
       "  <tbody>\n",
       "    <tr>\n",
       "      <th>흐림</th>\n",
       "      <td>4615</td>\n",
       "      <td>264</td>\n",
       "    </tr>\n",
       "    <tr>\n",
       "      <th>맑음</th>\n",
       "      <td>108059</td>\n",
       "      <td>3185</td>\n",
       "    </tr>\n",
       "    <tr>\n",
       "      <th>기타/불명</th>\n",
       "      <td>1022</td>\n",
       "      <td>19</td>\n",
       "    </tr>\n",
       "    <tr>\n",
       "      <th>눈</th>\n",
       "      <td>551</td>\n",
       "      <td>22</td>\n",
       "    </tr>\n",
       "    <tr>\n",
       "      <th>비</th>\n",
       "      <td>121892</td>\n",
       "      <td>3811</td>\n",
       "    </tr>\n",
       "    <tr>\n",
       "      <th>안개</th>\n",
       "      <td>121892</td>\n",
       "      <td>3811</td>\n",
       "    </tr>\n",
       "  </tbody>\n",
       "</table>\n",
       "</div>"
      ],
      "text/plain": [
       "       중상_건_수  사망_건_수\n",
       "흐림       4615     264\n",
       "맑음     108059    3185\n",
       "기타/불명    1022      19\n",
       "눈         551      22\n",
       "비      121892    3811\n",
       "안개     121892    3811"
      ]
     },
     "execution_count": 385,
     "metadata": {},
     "output_type": "execute_result"
    }
   ],
   "source": [
    "climate_total_df = climate_mid_df\n",
    "climate_total_df['사망_건_수'] = climate_dead_df\n",
    "climate_total_df"
   ]
  },
  {
   "cell_type": "code",
   "execution_count": 386,
   "id": "72d894c2",
   "metadata": {},
   "outputs": [
    {
     "data": {
      "text/html": [
       "<div>\n",
       "<style scoped>\n",
       "    .dataframe tbody tr th:only-of-type {\n",
       "        vertical-align: middle;\n",
       "    }\n",
       "\n",
       "    .dataframe tbody tr th {\n",
       "        vertical-align: top;\n",
       "    }\n",
       "\n",
       "    .dataframe thead th {\n",
       "        text-align: right;\n",
       "    }\n",
       "</style>\n",
       "<table border=\"1\" class=\"dataframe\">\n",
       "  <thead>\n",
       "    <tr style=\"text-align: right;\">\n",
       "      <th></th>\n",
       "      <th>기상상태별_사고_건_수</th>\n",
       "    </tr>\n",
       "  </thead>\n",
       "  <tbody>\n",
       "    <tr>\n",
       "      <th>흐림</th>\n",
       "      <td>19517</td>\n",
       "    </tr>\n",
       "    <tr>\n",
       "      <th>맑음</th>\n",
       "      <td>490050</td>\n",
       "    </tr>\n",
       "    <tr>\n",
       "      <th>기타/불명</th>\n",
       "      <td>4711</td>\n",
       "    </tr>\n",
       "    <tr>\n",
       "      <th>눈</th>\n",
       "      <td>2933</td>\n",
       "    </tr>\n",
       "    <tr>\n",
       "      <th>비</th>\n",
       "      <td>33143</td>\n",
       "    </tr>\n",
       "    <tr>\n",
       "      <th>안개</th>\n",
       "      <td>437</td>\n",
       "    </tr>\n",
       "  </tbody>\n",
       "</table>\n",
       "</div>"
      ],
      "text/plain": [
       "       기상상태별_사고_건_수\n",
       "흐림            19517\n",
       "맑음           490050\n",
       "기타/불명          4711\n",
       "눈              2933\n",
       "비             33143\n",
       "안개              437"
      ]
     },
     "execution_count": 386,
     "metadata": {},
     "output_type": "execute_result"
    }
   ],
   "source": [
    "df_climate_status_cases = pd.DataFrame({\"기상상태별_사고_건_수\" : climate_status_cases}, index = climate_status)\n",
    "df_climate_status_cases"
   ]
  },
  {
   "cell_type": "code",
   "execution_count": 387,
   "id": "1a5c86e3",
   "metadata": {},
   "outputs": [],
   "source": [
    "climate_status_per = []"
   ]
  },
  {
   "cell_type": "code",
   "execution_count": 388,
   "id": "2443f2de",
   "metadata": {},
   "outputs": [],
   "source": [
    "cloudy_cases_per = ((climate_total_df.중상_건_수.loc['흐림'] + climate_total_df.사망_건_수.loc['흐림']) / \n",
    "(df_climate_status_cases.기상상태별_사고_건_수.loc['흐림'])) * 100\n",
    "\n",
    "climate_status_per.append(cloudy_cases_per)"
   ]
  },
  {
   "cell_type": "code",
   "execution_count": 389,
   "id": "0b09906e",
   "metadata": {},
   "outputs": [],
   "source": [
    "sunny_cases_per = ((climate_total_df.중상_건_수.loc['맑음'] + climate_total_df.사망_건_수.loc['맑음']) / \n",
    "(df_climate_status_cases.기상상태별_사고_건_수.loc['맑음'])) * 100\n",
    "\n",
    "climate_status_per.append(sunny_cases_per)"
   ]
  },
  {
   "cell_type": "code",
   "execution_count": 390,
   "id": "bf2fc799",
   "metadata": {},
   "outputs": [],
   "source": [
    "unknown_cases_per = ((climate_total_df.중상_건_수.loc['기타/불명'] + climate_total_df.사망_건_수.loc['기타/불명']) / \n",
    "(df_climate_status_cases.기상상태별_사고_건_수.loc['기타/불명'])) * 100\n",
    "\n",
    "climate_status_per.append(unknown_cases_per)"
   ]
  },
  {
   "cell_type": "code",
   "execution_count": 391,
   "id": "db3f1951",
   "metadata": {},
   "outputs": [],
   "source": [
    "snow_cases_per = ((climate_total_df.중상_건_수.loc['눈'] + climate_total_df.사망_건_수.loc['눈']) / \n",
    "(df_climate_status_cases.기상상태별_사고_건_수.loc['눈'])) * 100\n",
    "\n",
    "climate_status_per.append(snow_cases_per)"
   ]
  },
  {
   "cell_type": "code",
   "execution_count": 392,
   "id": "8f7f75f8",
   "metadata": {},
   "outputs": [],
   "source": [
    "rain_cases_per = ((climate_total_df.중상_건_수.loc['비'] + climate_total_df.사망_건_수.loc['비']) / \n",
    "(df_climate_status_cases.기상상태별_사고_건_수.loc['비'])) * 100\n",
    "\n",
    "climate_status_per.append(rain_cases_per)"
   ]
  },
  {
   "cell_type": "code",
   "execution_count": 393,
   "id": "881a561a",
   "metadata": {},
   "outputs": [],
   "source": [
    "fog_cases_per = ((climate_total_df.중상_건_수.loc['안개'] + climate_total_df.사망_건_수.loc['안개']) / \n",
    "(df_climate_status_cases.기상상태별_사고_건_수.loc['안개'])) * 100\n",
    "\n",
    "climate_status_per.append(fog_cases_per)"
   ]
  },
  {
   "cell_type": "code",
   "execution_count": 394,
   "id": "e4911f70",
   "metadata": {},
   "outputs": [
    {
     "data": {
      "text/html": [
       "<div>\n",
       "<style scoped>\n",
       "    .dataframe tbody tr th:only-of-type {\n",
       "        vertical-align: middle;\n",
       "    }\n",
       "\n",
       "    .dataframe tbody tr th {\n",
       "        vertical-align: top;\n",
       "    }\n",
       "\n",
       "    .dataframe thead th {\n",
       "        text-align: right;\n",
       "    }\n",
       "</style>\n",
       "<table border=\"1\" class=\"dataframe\">\n",
       "  <thead>\n",
       "    <tr style=\"text-align: right;\">\n",
       "      <th></th>\n",
       "      <th>%</th>\n",
       "    </tr>\n",
       "  </thead>\n",
       "  <tbody>\n",
       "    <tr>\n",
       "      <th>흐림</th>\n",
       "      <td>24.998719</td>\n",
       "    </tr>\n",
       "    <tr>\n",
       "      <th>맑음</th>\n",
       "      <td>22.700541</td>\n",
       "    </tr>\n",
       "    <tr>\n",
       "      <th>기타/불명</th>\n",
       "      <td>22.097219</td>\n",
       "    </tr>\n",
       "    <tr>\n",
       "      <th>눈</th>\n",
       "      <td>19.536311</td>\n",
       "    </tr>\n",
       "    <tr>\n",
       "      <th>비</th>\n",
       "      <td>379.274658</td>\n",
       "    </tr>\n",
       "    <tr>\n",
       "      <th>안개</th>\n",
       "      <td>28764.988558</td>\n",
       "    </tr>\n",
       "  </tbody>\n",
       "</table>\n",
       "</div>"
      ],
      "text/plain": [
       "                  %\n",
       "흐림        24.998719\n",
       "맑음        22.700541\n",
       "기타/불명     22.097219\n",
       "눈         19.536311\n",
       "비        379.274658\n",
       "안개     28764.988558"
      ]
     },
     "execution_count": 394,
     "metadata": {},
     "output_type": "execute_result"
    }
   ],
   "source": [
    "df_climate_status_per = pd.DataFrame({\"%\" : climate_status_per}, index = climate_status)\n",
    "df_climate_status_per"
   ]
  }
 ],
 "metadata": {
  "kernelspec": {
   "display_name": "Python 3 (ipykernel)",
   "language": "python",
   "name": "python3"
  },
  "language_info": {
   "codemirror_mode": {
    "name": "ipython",
    "version": 3
   },
   "file_extension": ".py",
   "mimetype": "text/x-python",
   "name": "python",
   "nbconvert_exporter": "python",
   "pygments_lexer": "ipython3",
   "version": "3.9.7"
  }
 },
 "nbformat": 4,
 "nbformat_minor": 5
}
